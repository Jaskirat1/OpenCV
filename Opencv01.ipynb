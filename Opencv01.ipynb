{
  "nbformat": 4,
  "nbformat_minor": 0,
  "metadata": {
    "colab": {
      "provenance": [],
      "authorship_tag": "ABX9TyN0zSEJPVtghk6c4nZd9nGi",
      "include_colab_link": true
    },
    "kernelspec": {
      "name": "python3",
      "display_name": "Python 3"
    },
    "language_info": {
      "name": "python"
    }
  },
  "cells": [
    {
      "cell_type": "markdown",
      "metadata": {
        "id": "view-in-github",
        "colab_type": "text"
      },
      "source": [
        "<a href=\"https://colab.research.google.com/github/Jaskirat1/OpenCV/blob/main/Opencv01.ipynb\" target=\"_parent\"><img src=\"https://colab.research.google.com/assets/colab-badge.svg\" alt=\"Open In Colab\"/></a>"
      ]
    },
    {
      "cell_type": "code",
      "execution_count": 1,
      "metadata": {
        "id": "XdtQE8HfpgZj"
      },
      "outputs": [],
      "source": [
        "import cv2\n",
        "import numpy as np\n",
        "import matplotlib.pyplot as plt\n",
        "%matplotlib inline\n",
        "from IPython.display import Image"
      ]
    },
    {
      "cell_type": "code",
      "source": [
        "Image(filename= 'checkerboard_18x18.png')"
      ],
      "metadata": {
        "colab": {
          "base_uri": "https://localhost:8080/",
          "height": 35
        },
        "id": "g_JrZhuyuxce",
        "outputId": "4efb8794-4c2a-4f59-b5f8-d18c1dc68b1b"
      },
      "execution_count": 2,
      "outputs": [
        {
          "output_type": "execute_result",
          "data": {
            "image/png": "[encoded data removed]",
            "text/plain": [
              "<IPython.core.display.Image object>"
            ]
          },
          "metadata": {},
          "execution_count": 2
        }
      ]
    },
    {
      "cell_type": "code",
      "source": [
        "Image(filename = 'checkerboard_84x84.jpg')"
      ],
      "metadata": {
        "colab": {
          "base_uri": "https://localhost:8080/",
          "height": 101
        },
        "id": "HkgLLIefvBf5",
        "outputId": "d24eb709-846c-41b1-fc5f-6f120749b4d0"
      },
      "execution_count": 3,
      "outputs": [
        {
          "output_type": "execute_result",
          "data": {
            "image/jpeg": "[encoded data removed]",
            "text/plain": [
              "<IPython.core.display.Image object>"
            ]
          },
          "metadata": {},
          "execution_count": 3
        }
      ]
    },
    {
      "cell_type": "code",
      "source": [
        "a = cv2.imread('checkerboard_18x18.png',0)\n",
        "a"
      ],
      "metadata": {
        "colab": {
          "base_uri": "https://localhost:8080/"
        },
        "id": "5_Ucl2N2vLkP",
        "outputId": "d731b91f-b360-46b1-c246-3199b23b852e"
      },
      "execution_count": 10,
      "outputs": [
        {
          "output_type": "execute_result",
          "data": {
            "text/plain": [
              "array([[  0,   0,   0,   0,   0,   0, 255, 255, 255, 255, 255, 255,   0,\n",
              "          0,   0,   0,   0,   0],\n",
              "       [  0,   0,   0,   0,   0,   0, 255, 255, 255, 255, 255, 255,   0,\n",
              "          0,   0,   0,   0,   0],\n",
              "       [  0,   0,   0,   0,   0,   0, 255, 255, 255, 255, 255, 255,   0,\n",
              "          0,   0,   0,   0,   0],\n",
              "       [  0,   0,   0,   0,   0,   0, 255, 255, 255, 255, 255, 255,   0,\n",
              "          0,   0,   0,   0,   0],\n",
              "       [  0,   0,   0,   0,   0,   0, 255, 255, 255, 255, 255, 255,   0,\n",
              "          0,   0,   0,   0,   0],\n",
              "       [  0,   0,   0,   0,   0,   0, 255, 255, 255, 255, 255, 255,   0,\n",
              "          0,   0,   0,   0,   0],\n",
              "       [255, 255, 255, 255, 255, 255,   0,   0,   0,   0,   0,   0, 255,\n",
              "        255, 255, 255, 255, 255],\n",
              "       [255, 255, 255, 255, 255, 255,   0,   0,   0,   0,   0,   0, 255,\n",
              "        255, 255, 255, 255, 255],\n",
              "       [255, 255, 255, 255, 255, 255,   0,   0,   0,   0,   0,   0, 255,\n",
              "        255, 255, 255, 255, 255],\n",
              "       [255, 255, 255, 255, 255, 255,   0,   0,   0,   0,   0,   0, 255,\n",
              "        255, 255, 255, 255, 255],\n",
              "       [255, 255, 255, 255, 255, 255,   0,   0,   0,   0,   0,   0, 255,\n",
              "        255, 255, 255, 255, 255],\n",
              "       [255, 255, 255, 255, 255, 255,   0,   0,   0,   0,   0,   0, 255,\n",
              "        255, 255, 255, 255, 255],\n",
              "       [  0,   0,   0,   0,   0,   0, 255, 255, 255, 255, 255, 255,   0,\n",
              "          0,   0,   0,   0,   0],\n",
              "       [  0,   0,   0,   0,   0,   0, 255, 255, 255, 255, 255, 255,   0,\n",
              "          0,   0,   0,   0,   0],\n",
              "       [  0,   0,   0,   0,   0,   0, 255, 255, 255, 255, 255, 255,   0,\n",
              "          0,   0,   0,   0,   0],\n",
              "       [  0,   0,   0,   0,   0,   0, 255, 255, 255, 255, 255, 255,   0,\n",
              "          0,   0,   0,   0,   0],\n",
              "       [  0,   0,   0,   0,   0,   0, 255, 255, 255, 255, 255, 255,   0,\n",
              "          0,   0,   0,   0,   0],\n",
              "       [  0,   0,   0,   0,   0,   0, 255, 255, 255, 255, 255, 255,   0,\n",
              "          0,   0,   0,   0,   0]], dtype=uint8)"
            ]
          },
          "metadata": {},
          "execution_count": 10
        }
      ]
    },
    {
      "cell_type": "code",
      "source": [
        "print(\"Image size:\", a.shape)"
      ],
      "metadata": {
        "colab": {
          "base_uri": "https://localhost:8080/"
        },
        "id": "DreNzV5qv8vE",
        "outputId": "44b8c912-65b0-413a-c5e6-ba2246974668"
      },
      "execution_count": 11,
      "outputs": [
        {
          "output_type": "stream",
          "name": "stdout",
          "text": [
            "Image size: (18, 18)\n"
          ]
        }
      ]
    },
    {
      "cell_type": "code",
      "source": [
        "print(\"Image data type:\", a.dtype)"
      ],
      "metadata": {
        "colab": {
          "base_uri": "https://localhost:8080/"
        },
        "id": "B2RNwAFXwcwL",
        "outputId": "49dd831e-b5f1-495f-f2ef-e2aab6911dd6"
      },
      "execution_count": 12,
      "outputs": [
        {
          "output_type": "stream",
          "name": "stdout",
          "text": [
            "Image data type: uint8\n"
          ]
        }
      ]
    },
    {
      "cell_type": "code",
      "source": [
        "#Display images using Matplotlib\n",
        "\n",
        "plt.imshow(a)"
      ],
      "metadata": {
        "colab": {
          "base_uri": "https://localhost:8080/",
          "height": 283
        },
        "id": "eFIozA1TwjWY",
        "outputId": "652ad487-5380-4770-ac71-77d5533fb09b"
      },
      "execution_count": 13,
      "outputs": [
        {
          "output_type": "execute_result",
          "data": {
            "text/plain": [
              "<matplotlib.image.AxesImage at 0x7f5f3da81910>"
            ]
          },
          "metadata": {},
          "execution_count": 13
        },
        {
          "output_type": "display_data",
          "data": {
            "text/plain": [
              "<Figure size 432x288 with 1 Axes>"
            ],
            "image/png": "[encoded data removed]"
          },
          "metadata": {
            "needs_background": "light"
          }
        }
      ]
    },
    {
      "cell_type": "code",
      "source": [
        "plt.imshow(a ,cmap ='gray')"
      ],
      "metadata": {
        "colab": {
          "base_uri": "https://localhost:8080/",
          "height": 283
        },
        "id": "MyZ7lH3JwzVb",
        "outputId": "56ff0c13-a786-4508-b3fc-9c3d50b1cfe7"
      },
      "execution_count": 15,
      "outputs": [
        {
          "output_type": "execute_result",
          "data": {
            "text/plain": [
              "<matplotlib.image.AxesImage at 0x7f5f3d4582e0>"
            ]
          },
          "metadata": {},
          "execution_count": 15
        },
        {
          "output_type": "display_data",
          "data": {
            "text/plain": [
              "<Figure size 432x288 with 1 Axes>"
            ],
            "image/png": "[encoded data removed]"
          },
          "metadata": {
            "needs_background": "light"
          }
        }
      ]
    },
    {
      "cell_type": "code",
      "source": [
        "b= cv2.imread('checkerboard_fuzzy_18x18.jpg',0)\n",
        "b"
      ],
      "metadata": {
        "colab": {
          "base_uri": "https://localhost:8080/"
        },
        "id": "mf492nLUw6Wb",
        "outputId": "549b6b11-14fe-4217-87a2-923a78d000fb"
      },
      "execution_count": 17,
      "outputs": [
        {
          "output_type": "execute_result",
          "data": {
            "text/plain": [
              "array([[  0,   0,  15,  20,   1, 134, 233, 253, 253, 253, 255, 229, 130,\n",
              "          1,  29,   2,   0,   0],\n",
              "       [  0,   1,   5,  18,   0, 137, 232, 255, 254, 247, 255, 228, 129,\n",
              "          0,  24,   2,   0,   0],\n",
              "       [  7,   5,   2,  28,   2, 139, 230, 254, 255, 249, 255, 226, 128,\n",
              "          0,  27,   3,   2,   2],\n",
              "       [ 25,  27,  28,  38,   0, 129, 236, 255, 253, 249, 251, 227, 129,\n",
              "          0,  36,  27,  27,  27],\n",
              "       [  2,   0,   0,   4,   2, 130, 239, 254, 254, 254, 255, 230, 126,\n",
              "          0,   4,   2,   0,   0],\n",
              "       [132, 129, 131, 124, 121, 163, 211, 226, 227, 225, 226, 203, 164,\n",
              "        125, 125, 129, 131, 131],\n",
              "       [234, 227, 230, 229, 232, 205, 151, 115, 125, 124, 117, 156, 205,\n",
              "        232, 229, 225, 228, 228],\n",
              "       [254, 255, 255, 251, 255, 222, 102,   1,   0,   0,   0, 120, 225,\n",
              "        255, 254, 255, 255, 255],\n",
              "       [254, 255, 254, 255, 253, 225, 104,   0,  50,  46,   0, 120, 233,\n",
              "        254, 247, 253, 251, 253],\n",
              "       [252, 250, 250, 253, 254, 223, 105,   2,  45,  50,   0, 127, 223,\n",
              "        255, 251, 255, 251, 253],\n",
              "       [254, 255, 255, 252, 255, 226, 104,   0,   1,   1,   0, 120, 229,\n",
              "        255, 255, 254, 255, 255],\n",
              "       [233, 235, 231, 233, 234, 207, 142, 106, 108, 102, 108, 146, 207,\n",
              "        235, 237, 232, 231, 231],\n",
              "       [132, 132, 131, 132, 130, 175, 207, 223, 224, 224, 224, 210, 165,\n",
              "        134, 130, 136, 134, 134],\n",
              "       [  1,   1,   3,   0,   0, 129, 238, 255, 254, 252, 255, 233, 126,\n",
              "          0,   0,   0,   0,   0],\n",
              "       [ 20,  19,  30,  40,   5, 130, 236, 253, 252, 249, 255, 224, 129,\n",
              "          0,  39,  23,  21,  21],\n",
              "       [ 12,   6,   7,  27,   0, 131, 234, 255, 254, 250, 254, 230, 123,\n",
              "          1,  28,   5,  10,  10],\n",
              "       [  0,   0,   9,  22,   1, 133, 233, 255, 253, 253, 254, 230, 129,\n",
              "          1,  26,   2,   0,   0],\n",
              "       [  0,   0,   9,  22,   1, 132, 233, 255, 253, 253, 254, 230, 129,\n",
              "          1,  26,   2,   0,   0]], dtype=uint8)"
            ]
          },
          "metadata": {},
          "execution_count": 17
        }
      ]
    },
    {
      "cell_type": "code",
      "source": [
        "plt.imshow(b,cmap='gray')"
      ],
      "metadata": {
        "colab": {
          "base_uri": "https://localhost:8080/",
          "height": 283
        },
        "id": "JlVNfMgZyOru",
        "outputId": "8f6b3312-fd80-4bb3-b8b8-1d5cf9fc3b6e"
      },
      "execution_count": 21,
      "outputs": [
        {
          "output_type": "execute_result",
          "data": {
            "text/plain": [
              "<matplotlib.image.AxesImage at 0x7f5f3d2d7430>"
            ]
          },
          "metadata": {},
          "execution_count": 21
        },
        {
          "output_type": "display_data",
          "data": {
            "text/plain": [
              "<Figure size 432x288 with 1 Axes>"
            ],
            "image/png": "[encoded data removed]"
          },
          "metadata": {
            "needs_background": "light"
          }
        }
      ]
    }
  ]
}